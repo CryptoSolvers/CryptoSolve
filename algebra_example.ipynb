{
 "cells": [
  {
   "cell_type": "markdown",
   "metadata": {},
   "source": [
    "# How to Use the Library"
   ]
  },
  {
   "cell_type": "markdown",
   "metadata": {},
   "source": [
    "This free algebra library creates a way for you to represent equations within a term algebra. It doesn't assume any properties in the algebra and it has a way to create a DAG containing only unique instances of the terms. The idea is that this library is supposed to be used for Unification algorithms."
   ]
  },
  {
   "cell_type": "markdown",
   "metadata": {},
   "source": [
    "## Setting up"
   ]
  },
  {
   "cell_type": "code",
   "execution_count": 1,
   "metadata": {},
   "outputs": [],
   "source": [
    "from algebra import *"
   ]
  },
  {
   "cell_type": "markdown",
   "metadata": {},
   "source": [
    "It's recommended that you set up your constants, variables, and functions ahead of time"
   ]
  },
  {
   "cell_type": "code",
   "execution_count": 2,
   "metadata": {},
   "outputs": [],
   "source": [
    "f = Function(\"f\", arity = 2)\n",
    "g = Function(\"g\", 2)\n",
    "x = Variable(\"x\")\n",
    "y = Variable(\"y\")\n",
    "a = Constant(\"a\")\n",
    "b = Constant(\"b\")"
   ]
  },
  {
   "cell_type": "markdown",
   "metadata": {},
   "source": [
    "The functions `f` and `g` are not terms by themselves. You need to instantiate them with their arguments."
   ]
  },
  {
   "cell_type": "code",
   "execution_count": 3,
   "metadata": {},
   "outputs": [],
   "source": [
    "f1 = f(x, a)\n",
    "g1 = f(a, b)"
   ]
  },
  {
   "cell_type": "markdown",
   "metadata": {},
   "source": [
    "You can print terms"
   ]
  },
  {
   "cell_type": "code",
   "execution_count": 4,
   "metadata": {},
   "outputs": [
    {
     "name": "stdout",
     "output_type": "stream",
     "text": [
      "f(x, a)\n"
     ]
    }
   ],
   "source": [
    "print(f1)"
   ]
  },
  {
   "cell_type": "markdown",
   "metadata": {},
   "source": [
    "If you try to instantiate a term from a function with the incorrect number of arguments, you'll get an error"
   ]
  },
  {
   "cell_type": "code",
   "execution_count": 5,
   "metadata": {},
   "outputs": [
    {
     "name": "stdout",
     "output_type": "stream",
     "text": [
      "Error Occured\n"
     ]
    }
   ],
   "source": [
    "try:\n",
    "    f2 = f(x, x, x)\n",
    "    print(f2)\n",
    "except:\n",
    "    print(\"Error Occured\")"
   ]
  },
  {
   "cell_type": "markdown",
   "metadata": {},
   "source": [
    "## Equations"
   ]
  },
  {
   "cell_type": "markdown",
   "metadata": {},
   "source": [
    "Equations are currently only a container that holds two terms"
   ]
  },
  {
   "cell_type": "code",
   "execution_count": 6,
   "metadata": {},
   "outputs": [
    {
     "name": "stdout",
     "output_type": "stream",
     "text": [
      "f(x, a) = f(a, b)\n"
     ]
    }
   ],
   "source": [
    "e1 = Equation(f1, g1)\n",
    "print(e1)"
   ]
  },
  {
   "cell_type": "markdown",
   "metadata": {},
   "source": [
    "## TermDAG"
   ]
  },
  {
   "cell_type": "markdown",
   "metadata": {},
   "source": [
    "Most of the functionality in the library is in the DAG implementation. The goal of this library is to represent terms in a DAG such that structured is shared and each subterm appears only once."
   ]
  },
  {
   "cell_type": "code",
   "execution_count": 7,
   "metadata": {},
   "outputs": [],
   "source": [
    "dag1 = TermDAG(f(g(a, x), b))"
   ]
  },
  {
   "cell_type": "markdown",
   "metadata": {},
   "source": [
    "You can visualize the DAGs"
   ]
  },
  {
   "cell_type": "code",
   "execution_count": 8,
   "metadata": {},
   "outputs": [
    {
     "name": "stderr",
     "output_type": "stream",
     "text": [
      "/home/rozek/anaconda3/lib/python3.7/site-packages/networkx/drawing/nx_pylab.py:611: MatplotlibDeprecationWarning: isinstance(..., numbers.Number)\n",
      "  if cb.is_numlike(alpha):\n"
     ]
    },
    {
     "data": {
      "image/png": "[encoded data removed]",
      "text/plain": [
       "<Figure size 432x288 with 1 Axes>"
      ]
     },
     "metadata": {},
     "output_type": "display_data"
    }
   ],
   "source": [
    "dag1.show()"
   ]
  },
  {
   "cell_type": "markdown",
   "metadata": {},
   "source": [
    "Some notes:\n",
    "- The edges are annotated with which argument position the term is in.\n",
    "- The root node is colored green.\n",
    "- The whole term is listed on the top"
   ]
  },
  {
   "cell_type": "markdown",
   "metadata": {},
   "source": [
    "You can traverse the graph with the following function calls"
   ]
  },
  {
   "cell_type": "code",
   "execution_count": 9,
   "metadata": {},
   "outputs": [],
   "source": [
    "# Depth First Edge Traversal\n",
    "## Returns a list of edges (node, node)\n",
    "t1 = dag1.df_edge_traversal()\n",
    "\n",
    "# Depth First Node Traversal\n",
    "## Returns a list of nodes\n",
    "t2 = dag1.df_node_traversal()\n",
    "\n",
    "# Breadth First Edge Traversal\n",
    "## Returns a list of edges (node, node)\n",
    "t3 = dag1.bs_edge_traversal()\n",
    "\n",
    "# Breadth First Node Traversal\n",
    "## Returns a list of nodes\n",
    "t4 = dag1.bs_node_traversal()"
   ]
  },
  {
   "cell_type": "markdown",
   "metadata": {},
   "source": [
    "Then to traversal, just use the standard Python notation"
   ]
  },
  {
   "cell_type": "code",
   "execution_count": 10,
   "metadata": {},
   "outputs": [
    {
     "name": "stdout",
     "output_type": "stream",
     "text": [
      "(f(g(a, x), b), g(a, x))\n",
      "(g(a, x), a)\n",
      "(g(a, x), x)\n",
      "(f(g(a, x), b), b)\n"
     ]
    }
   ],
   "source": [
    "for edge in t1:\n",
    "    print(edge)"
   ]
  },
  {
   "cell_type": "markdown",
   "metadata": {},
   "source": [
    "## Substitutions"
   ]
  },
  {
   "cell_type": "markdown",
   "metadata": {},
   "source": [
    "Currently substitutions are supported for Terms (not TermDAGs)\n",
    "Substitutions are stored and then applied to a term via multiplication"
   ]
  },
  {
   "cell_type": "code",
   "execution_count": 11,
   "metadata": {},
   "outputs": [
    {
     "data": {
      "text/plain": [
       "f(a, b)"
      ]
     },
     "execution_count": 11,
     "metadata": {},
     "output_type": "execute_result"
    }
   ],
   "source": [
    "sigma = SubstituteTerm()\n",
    "# Add the mapping x -> a\n",
    "sigma.add_substitution(x, a)\n",
    "# Apply the substitution to the term f(x)b\n",
    "f(x, b) * sigma"
   ]
  },
  {
   "cell_type": "code",
   "execution_count": null,
   "metadata": {},
   "outputs": [],
   "source": []
  }
 ],
 "metadata": {
  "kernelspec": {
   "display_name": "Python 3",
   "language": "python",
   "name": "python3"
  },
  "language_info": {
   "codemirror_mode": {
    "name": "ipython",
    "version": 3
   },
   "file_extension": ".py",
   "mimetype": "text/x-python",
   "name": "python",
   "nbconvert_exporter": "python",
   "pygments_lexer": "ipython3",
   "version": "3.7.3"
  }
 },
 "nbformat": 4,
 "nbformat_minor": 2
}
