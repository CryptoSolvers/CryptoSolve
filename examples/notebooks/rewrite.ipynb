{
 "cells": [
  {
   "cell_type": "markdown",
   "source": [
    "# Rewrite Library"
   ],
   "metadata": {}
  },
  {
   "cell_type": "markdown",
   "source": [
    "The rewrite library allows you to add rewrite rules and apply them to terms. Currently it only supports rewrites using syntactic unification but it is planned to allow for rewrites modulo an equational theory."
   ],
   "metadata": {}
  },
  {
   "cell_type": "markdown",
   "source": [
    "## Setting up"
   ],
   "metadata": {}
  },
  {
   "cell_type": "code",
   "execution_count": 1,
   "source": [
    "from symcollab.algebra import *\n",
    "from symcollab.rewrite import *"
   ],
   "outputs": [],
   "metadata": {}
  },
  {
   "cell_type": "markdown",
   "source": [
    "It's recommended that you set up your constants, variables, and functions ahead of time"
   ],
   "metadata": {}
  },
  {
   "cell_type": "code",
   "execution_count": 2,
   "source": [
    "f = Function(\"f\", arity = 2)\n",
    "g = Function(\"g\", 2)\n",
    "x = Variable(\"x\")\n",
    "y = Variable(\"y\")\n",
    "a = Constant(\"a\")\n",
    "b = Constant(\"b\")\n",
    "c = Constant(\"c\")"
   ],
   "outputs": [],
   "metadata": {}
  },
  {
   "cell_type": "markdown",
   "source": [
    "## Rewrite Rules"
   ],
   "metadata": {}
  },
  {
   "cell_type": "markdown",
   "source": [
    "Consider the following rewrite rule"
   ],
   "metadata": {}
  },
  {
   "cell_type": "code",
   "execution_count": 3,
   "source": [
    "r = RewriteRule(f(y, g(x, a)), g(y, a))\n",
    "print(r)"
   ],
   "outputs": [
    {
     "output_type": "stream",
     "name": "stdout",
     "text": [
      "f(y, g(x, a)) → g(y, a)\n"
     ]
    }
   ],
   "metadata": {}
  },
  {
   "cell_type": "markdown",
   "source": [
    "Now let's apply it to `f(b, g(c, a))`"
   ],
   "metadata": {}
  },
  {
   "cell_type": "code",
   "execution_count": 4,
   "source": [
    "r.apply(f(b, g(c, a)))"
   ],
   "outputs": [
    {
     "output_type": "execute_result",
     "data": {
      "text/plain": [
       "{'': g(b, a)}"
      ]
     },
     "metadata": {},
     "execution_count": 4
    }
   ],
   "metadata": {}
  },
  {
   "cell_type": "markdown",
   "source": [
    "Notice how it returns a dictionary. The keys of the dictionary tell you the position in which the rule is applied and the value tells you the outcome."
   ],
   "metadata": {}
  },
  {
   "cell_type": "code",
   "execution_count": 5,
   "source": [
    "r2 = RewriteRule(f(a, x), f(a, a))\n",
    "r2.apply(f(a, f(a, x)))"
   ],
   "outputs": [
    {
     "output_type": "execute_result",
     "data": {
      "text/plain": [
       "{'': f(a, a), '2': f(a, f(a, a))}"
      ]
     },
     "metadata": {},
     "execution_count": 5
    }
   ],
   "metadata": {}
  },
  {
   "cell_type": "markdown",
   "source": [
    "If a rewrite rule cannot be applied to a term, then nothing is returned"
   ],
   "metadata": {}
  },
  {
   "cell_type": "code",
   "execution_count": 8,
   "source": [
    "print(r.apply(f(a,b)))"
   ],
   "outputs": [
    {
     "output_type": "stream",
     "name": "stdout",
     "text": [
      "None\n"
     ]
    }
   ],
   "metadata": {}
  },
  {
   "cell_type": "markdown",
   "source": [
    "## Rewrite Systems"
   ],
   "metadata": {}
  },
  {
   "cell_type": "markdown",
   "source": [
    "Things get more interesting when we combine multiple rewrite rules into a rewrite system. "
   ],
   "metadata": {}
  },
  {
   "cell_type": "code",
   "execution_count": 9,
   "source": [
    "r = RewriteRule(f(x, x), x)\n",
    "r2 = RewriteRule(f(a, x), b)\n",
    "rs = RewriteSystem({r, r2})\n",
    "print(rs)"
   ],
   "outputs": [
    {
     "output_type": "stream",
     "name": "stdout",
     "text": [
      "{\n",
      "  f(x, x) → x,\n",
      "  f(a, x) → b,\n",
      "\n",
      "}\n"
     ]
    }
   ],
   "metadata": {}
  },
  {
   "cell_type": "markdown",
   "source": [
    "If it is a convergent term rewriting system, we can find the normal form of a term."
   ],
   "metadata": {}
  },
  {
   "cell_type": "code",
   "execution_count": 13,
   "source": [
    "normal_form, rules_applied = normal(f(a, f(x, x)), rs)\n",
    "print(\"Normal form:\", normal_form)\n",
    "print(\"Rules applied:\", rules_applied)"
   ],
   "outputs": [
    {
     "output_type": "stream",
     "name": "stdout",
     "text": [
      "Normal form: b\n",
      "Rules applied: [(f(x_1, x_1) → x_1, '2'), (f(a, x) → b, '')]\n"
     ]
    }
   ],
   "metadata": {}
  },
  {
   "cell_type": "markdown",
   "source": [
    "## Variants"
   ],
   "metadata": {}
  },
  {
   "cell_type": "markdown",
   "source": [
    "We can use RewriteSystems to find variants of terms."
   ],
   "metadata": {}
  },
  {
   "cell_type": "code",
   "execution_count": 14,
   "source": [
    "term = f(a, f(b, b))\n",
    "vs = Variants(term, rs)\n",
    "\n",
    "for vi in vs:\n",
    "    print(vi)"
   ],
   "outputs": [
    {
     "output_type": "stream",
     "name": "stdout",
     "text": [
      "f(a, f(b, b))\n",
      "f(a, b)\n",
      "b\n"
     ]
    }
   ],
   "metadata": {}
  },
  {
   "cell_type": "markdown",
   "source": [
    "Since there can be an infinite amount of variants, they are only computed when requested. One can also check to see if it's finite up to a certain bound."
   ],
   "metadata": {}
  },
  {
   "cell_type": "code",
   "execution_count": 15,
   "source": [
    "# Pass a bound of -1 to keep checking forever\n",
    "is_finite(vs, -1)"
   ],
   "outputs": [
    {
     "output_type": "execute_result",
     "data": {
      "text/plain": [
       "True"
      ]
     },
     "metadata": {},
     "execution_count": 15
    }
   ],
   "metadata": {}
  },
  {
   "cell_type": "markdown",
   "source": [
    "Finally, we can narrow from one term to another."
   ],
   "metadata": {}
  },
  {
   "cell_type": "code",
   "execution_count": 16,
   "source": [
    "print(\"Rewrite rule from\", term, \"to\", f(a, b), narrow(term, f(a,b), rs, -1))"
   ],
   "outputs": [
    {
     "output_type": "stream",
     "name": "stdout",
     "text": [
      "Rewrite rule from f(a, f(b, b)) to f(a, b) [(f(x_1, x_1) → x_1, '2')]\n"
     ]
    }
   ],
   "metadata": {}
  }
 ],
 "metadata": {
  "kernelspec": {
   "name": "python3",
   "display_name": "Python 3.8.6 64-bit ('moo_test': pyenv)"
  },
  "language_info": {
   "codemirror_mode": {
    "name": "ipython",
    "version": 3
   },
   "file_extension": ".py",
   "mimetype": "text/x-python",
   "name": "python",
   "nbconvert_exporter": "python",
   "pygments_lexer": "ipython3",
   "version": "3.8.6"
  },
  "interpreter": {
   "hash": "632c8599f18554cc0179674f2806847152ec4bafb15da219a2bec9d20b606288"
  }
 },
 "nbformat": 4,
 "nbformat_minor": 2
}