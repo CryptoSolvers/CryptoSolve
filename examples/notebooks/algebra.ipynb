{
 "cells": [
  {
   "cell_type": "markdown",
   "source": [
    "# Algebra Library"
   ],
   "metadata": {}
  },
  {
   "cell_type": "markdown",
   "source": [
    "This free algebra library creates a way for you to represent equations within a term algebra. It doesn't assume any properties in the algebra and it has a way to create a DAG containing only unique instances of the terms. The idea is that this library is supposed to be used for Unification algorithms."
   ],
   "metadata": {}
  },
  {
   "cell_type": "markdown",
   "source": [
    "## Setting up"
   ],
   "metadata": {}
  },
  {
   "cell_type": "code",
   "execution_count": 1,
   "source": [
    "from symcollab.algebra import *"
   ],
   "outputs": [],
   "metadata": {}
  },
  {
   "cell_type": "markdown",
   "source": [
    "It's recommended that you set up your constants, variables, and functions ahead of time"
   ],
   "metadata": {}
  },
  {
   "cell_type": "code",
   "execution_count": 2,
   "source": [
    "f = Function(\"f\", arity = 2)\n",
    "g = Function(\"g\", 2)\n",
    "x = Variable(\"x\")\n",
    "y = Variable(\"y\")\n",
    "z = Variable(\"z\")\n",
    "a = Constant(\"a\")\n",
    "b = Constant(\"b\")\n",
    "c = Constant(\"c\")\n",
    "d = Constant(\"d\")\n",
    "e = Constant(\"e\")"
   ],
   "outputs": [],
   "metadata": {}
  },
  {
   "cell_type": "markdown",
   "source": [
    "The functions `f` and `g` are not terms by themselves. You need to instantiate them with their arguments."
   ],
   "metadata": {}
  },
  {
   "cell_type": "code",
   "execution_count": 3,
   "source": [
    "f1 = f(x, a)\n",
    "g1 = f(a, b)"
   ],
   "outputs": [],
   "metadata": {}
  },
  {
   "cell_type": "markdown",
   "source": [
    "You can print terms"
   ],
   "metadata": {}
  },
  {
   "cell_type": "code",
   "execution_count": 4,
   "source": [
    "print(f1)"
   ],
   "outputs": [
    {
     "output_type": "stream",
     "name": "stdout",
     "text": [
      "f(x, a)\n"
     ]
    }
   ],
   "metadata": {}
  },
  {
   "cell_type": "markdown",
   "source": [
    "If you try to instantiate a term from a function with the incorrect number of arguments, you'll get an error"
   ],
   "metadata": {}
  },
  {
   "cell_type": "code",
   "execution_count": 5,
   "source": [
    "try:\n",
    "    f2 = f(x, x, x)\n",
    "    print(f2)\n",
    "except:\n",
    "    print(\"Error Occured\")"
   ],
   "outputs": [
    {
     "output_type": "stream",
     "name": "stdout",
     "text": [
      "Error Occured\n"
     ]
    }
   ],
   "metadata": {}
  },
  {
   "cell_type": "markdown",
   "source": [
    "The arguments of a term can be obtained by calling `.arguments`. This makes it easy to iterate over them. "
   ],
   "metadata": {}
  },
  {
   "cell_type": "code",
   "execution_count": 7,
   "source": [
    "for ti in g1.arguments:\n",
    "    print(ti)"
   ],
   "outputs": [
    {
     "output_type": "stream",
     "name": "stdout",
     "text": [
      "a\n",
      "b\n"
     ]
    }
   ],
   "metadata": {}
  },
  {
   "cell_type": "markdown",
   "source": [
    "You can check if a term is a Constant, Variable, or FuncTerm by using `isinstance`"
   ],
   "metadata": {}
  },
  {
   "cell_type": "code",
   "execution_count": 8,
   "source": [
    "print(\"Is x a variable?\", isinstance(g, Variable))\n",
    "print(\"Is x a constant?\", isinstance(x, Constant))\n",
    "print(\"Is a a variable?\", isinstance(a, Variable))\n",
    "print(\"Is a a constant?\", isinstance(a, Constant))"
   ],
   "outputs": [
    {
     "output_type": "stream",
     "name": "stdout",
     "text": [
      "Is x a variable? False\n",
      "Is x a constant? False\n",
      "Is a a variable? False\n",
      "Is a a constant? True\n"
     ]
    }
   ],
   "metadata": {}
  },
  {
   "cell_type": "markdown",
   "source": [
    "You can check to see if two terms are exactly the same. (Not the same as unifiable)"
   ],
   "metadata": {}
  },
  {
   "cell_type": "code",
   "execution_count": 9,
   "source": [
    "f(x, a) == f(x, a)"
   ],
   "outputs": [
    {
     "output_type": "execute_result",
     "data": {
      "text/plain": [
       "True"
      ]
     },
     "metadata": {},
     "execution_count": 9
    }
   ],
   "metadata": {}
  },
  {
   "cell_type": "code",
   "execution_count": 10,
   "source": [
    "f(x, a) == f(y, a)"
   ],
   "outputs": [
    {
     "output_type": "execute_result",
     "data": {
      "text/plain": [
       "False"
      ]
     },
     "metadata": {},
     "execution_count": 10
    }
   ],
   "metadata": {}
  },
  {
   "cell_type": "markdown",
   "source": [
    "It's easy to check if a term exists within another term"
   ],
   "metadata": {}
  },
  {
   "cell_type": "code",
   "execution_count": 11,
   "source": [
    "x in f(x, a)"
   ],
   "outputs": [
    {
     "output_type": "execute_result",
     "data": {
      "text/plain": [
       "True"
      ]
     },
     "metadata": {},
     "execution_count": 11
    }
   ],
   "metadata": {}
  },
  {
   "cell_type": "code",
   "execution_count": 12,
   "source": [
    "y in f(x, a)"
   ],
   "outputs": [
    {
     "output_type": "execute_result",
     "data": {
      "text/plain": [
       "False"
      ]
     },
     "metadata": {},
     "execution_count": 12
    }
   ],
   "metadata": {}
  },
  {
   "cell_type": "markdown",
   "source": [
    "You can pull out all the variables, constants, or both out of an expression"
   ],
   "metadata": {}
  },
  {
   "cell_type": "code",
   "execution_count": 13,
   "source": [
    "term = f(f(x,a), f(y, f(x,b)))\n",
    "print(\"Constants: \", get_constants(term))\n",
    "print(\"Variables: \", get_vars(term))\n",
    "print(\"All: \", get_vars_or_constants(term))"
   ],
   "outputs": [
    {
     "output_type": "stream",
     "name": "stdout",
     "text": [
      "Constants:  [a, b]\n",
      "Variables:  [x, y, x]\n",
      "All:  [x, a, y, x, b]\n"
     ]
    }
   ],
   "metadata": {}
  },
  {
   "cell_type": "markdown",
   "source": [
    "This is useful for when you want to count occurances"
   ],
   "metadata": {}
  },
  {
   "cell_type": "code",
   "execution_count": 14,
   "source": [
    "from collections import Counter\n",
    "print(Counter(get_vars(term)))"
   ],
   "outputs": [
    {
     "output_type": "stream",
     "name": "stdout",
     "text": [
      "Counter({x: 2, y: 1})\n"
     ]
    }
   ],
   "metadata": {}
  },
  {
   "cell_type": "markdown",
   "source": [
    "If you just want unique occurances, add `unique=True` flag"
   ],
   "metadata": {}
  },
  {
   "cell_type": "code",
   "execution_count": 15,
   "source": [
    "print(\"Distinct Variables: \", get_vars(term, unique = True))"
   ],
   "outputs": [
    {
     "output_type": "stream",
     "name": "stdout",
     "text": [
      "Distinct Variables:  {y, x}\n"
     ]
    }
   ],
   "metadata": {}
  },
  {
   "cell_type": "markdown",
   "source": [
    "## Equations"
   ],
   "metadata": {}
  },
  {
   "cell_type": "markdown",
   "source": [
    "Equations are currently only a container that holds two terms"
   ],
   "metadata": {}
  },
  {
   "cell_type": "code",
   "execution_count": 16,
   "source": [
    "e1 = Equation(f1, g1)\n",
    "print(e1)"
   ],
   "outputs": [
    {
     "output_type": "stream",
     "name": "stdout",
     "text": [
      "f(x, a) = f(a, b)\n"
     ]
    }
   ],
   "metadata": {}
  },
  {
   "cell_type": "markdown",
   "source": [
    "## TermDAG"
   ],
   "metadata": {}
  },
  {
   "cell_type": "markdown",
   "source": [
    "Most of the functionality in the library is in the DAG implementation. The goal of this library is to represent terms in a DAG such that structured is shared and each subterm appears only once."
   ],
   "metadata": {}
  },
  {
   "cell_type": "code",
   "execution_count": 18,
   "source": [
    "from symcollab.algebra.dag import TermDAG"
   ],
   "outputs": [],
   "metadata": {}
  },
  {
   "cell_type": "code",
   "execution_count": 19,
   "source": [
    "dag1 = TermDAG(f(g(a, x), b))"
   ],
   "outputs": [],
   "metadata": {}
  },
  {
   "cell_type": "markdown",
   "source": [
    "You can visualize the DAGs"
   ],
   "metadata": {}
  },
  {
   "cell_type": "code",
   "execution_count": 20,
   "source": [
    "dag1.show()"
   ],
   "outputs": [
    {
     "output_type": "display_data",
     "data": {
      "text/plain": [
       "<Figure size 432x288 with 1 Axes>"
      ],
      "image/png": "[encoded data removed]"
     },
     "metadata": {}
    }
   ],
   "metadata": {}
  },
  {
   "cell_type": "markdown",
   "source": [
    "Some notes:\n",
    "- The edges are annotated with which argument position the term is in.\n",
    "- The root node is colored green.\n",
    "- The whole term is listed on the top"
   ],
   "metadata": {}
  },
  {
   "cell_type": "markdown",
   "source": [
    "You can traverse the graph with the following function calls"
   ],
   "metadata": {}
  },
  {
   "cell_type": "code",
   "execution_count": 21,
   "source": [
    "# Depth First Edge Traversal\n",
    "## Returns a list of edges (node, node)\n",
    "t1 = dag1.df_edge_traversal()\n",
    "\n",
    "# Depth First Node Traversal\n",
    "## Returns a list of nodes\n",
    "t2 = dag1.df_node_traversal()\n",
    "\n",
    "# Breadth First Edge Traversal\n",
    "## Returns a list of edges (node, node)\n",
    "t3 = dag1.bs_edge_traversal()\n",
    "\n",
    "# Breadth First Node Traversal\n",
    "## Returns a list of nodes\n",
    "t4 = dag1.bs_node_traversal()"
   ],
   "outputs": [],
   "metadata": {}
  },
  {
   "cell_type": "markdown",
   "source": [
    "Then to traversal, just use the standard Python notation"
   ],
   "metadata": {}
  },
  {
   "cell_type": "code",
   "execution_count": 22,
   "source": [
    "for edge in t1:\n",
    "    print(edge)"
   ],
   "outputs": [
    {
     "output_type": "stream",
     "name": "stdout",
     "text": [
      "(f(g(a, x), b), g(a, x))\n",
      "(g(a, x), a)\n",
      "(g(a, x), x)\n",
      "(f(g(a, x), b), b)\n"
     ]
    }
   ],
   "metadata": {}
  },
  {
   "cell_type": "markdown",
   "source": [
    "## Substitutions"
   ],
   "metadata": {}
  },
  {
   "cell_type": "markdown",
   "source": [
    "Currently substitutions are supported for Terms (not TermDAGs)\n",
    "Substitutions are stored and then applied to a term via multiplication"
   ],
   "metadata": {}
  },
  {
   "cell_type": "code",
   "execution_count": 23,
   "source": [
    "sigma = SubstituteTerm()\n",
    "sigma.add(x, f(a, b)) # Add the mapping x -> f(a,b)\n",
    "sigma.add(y, a)\n",
    "sigma.add(z, c)\n",
    "print(sigma)"
   ],
   "outputs": [
    {
     "output_type": "stream",
     "name": "stdout",
     "text": [
      "{\n",
      "  x ↦ f(a, b),\n",
      "  y ↦ a,\n",
      "  z ↦ c\n",
      "}\n"
     ]
    }
   ],
   "metadata": {}
  },
  {
   "cell_type": "code",
   "execution_count": 24,
   "source": [
    "# Apply the substitution to the term f(x, b)\n",
    "f(x, b) * sigma"
   ],
   "outputs": [
    {
     "output_type": "execute_result",
     "data": {
      "text/plain": [
       "f(f(a, b), b)"
      ]
     },
     "metadata": {},
     "execution_count": 24
    }
   ],
   "metadata": {}
  },
  {
   "cell_type": "code",
   "execution_count": 25,
   "source": [
    "sigma(f(x,b))"
   ],
   "outputs": [
    {
     "output_type": "execute_result",
     "data": {
      "text/plain": [
       "f(f(a, b), b)"
      ]
     },
     "metadata": {},
     "execution_count": 25
    }
   ],
   "metadata": {}
  },
  {
   "cell_type": "markdown",
   "source": [
    "### Useful Methods"
   ],
   "metadata": {}
  },
  {
   "cell_type": "markdown",
   "source": [
    "Replace a substitution"
   ],
   "metadata": {}
  },
  {
   "cell_type": "code",
   "execution_count": 26,
   "source": [
    "sigma.replace(x, b)\n",
    "print(sigma)"
   ],
   "outputs": [
    {
     "output_type": "stream",
     "name": "stdout",
     "text": [
      "{\n",
      "  x ↦ b,\n",
      "  y ↦ a,\n",
      "  z ↦ c\n",
      "}\n"
     ]
    }
   ],
   "metadata": {}
  },
  {
   "cell_type": "markdown",
   "source": [
    "Delete a substitution"
   ],
   "metadata": {}
  },
  {
   "cell_type": "code",
   "execution_count": 27,
   "source": [
    "sigma.remove(x)\n",
    "print(sigma)"
   ],
   "outputs": [
    {
     "output_type": "stream",
     "name": "stdout",
     "text": [
      "{\n",
      "  y ↦ a,\n",
      "  z ↦ c\n",
      "}\n"
     ]
    }
   ],
   "metadata": {}
  },
  {
   "cell_type": "markdown",
   "source": [
    "Get the domain and range of a substiution"
   ],
   "metadata": {}
  },
  {
   "cell_type": "code",
   "execution_count": 28,
   "source": [
    "print(\"Domain: \", sigma.domain())\n",
    "print(\"Range: \", sigma.range())"
   ],
   "outputs": [
    {
     "output_type": "stream",
     "name": "stdout",
     "text": [
      "Domain:  [z, y]\n",
      "Range:  [c, a]\n"
     ]
    }
   ],
   "metadata": {}
  },
  {
   "cell_type": "markdown",
   "source": [
    "### Composing Substitutions"
   ],
   "metadata": {}
  },
  {
   "cell_type": "markdown",
   "source": [
    "You can compose substitutions $\\sigma_1$ and $\\sigma_2$."
   ],
   "metadata": {}
  },
  {
   "cell_type": "code",
   "execution_count": 29,
   "source": [
    "sigma1 = SubstituteTerm()\n",
    "sigma1.add(x, f(y, a))\n",
    "sigma2 = SubstituteTerm()\n",
    "sigma2.add(y, b)\n",
    "print(sigma1 * sigma2)"
   ],
   "outputs": [
    {
     "output_type": "stream",
     "name": "stdout",
     "text": [
      "{\n",
      "  x ↦ f(b, a),\n",
      "  y ↦ b\n",
      "}\n"
     ]
    }
   ],
   "metadata": {}
  },
  {
   "cell_type": "markdown",
   "source": [
    "As you can see above, the substitutions in $\\sigma_2$ got applied to $\\sigma_1$. You can still apply it to a term in the same line."
   ],
   "metadata": {}
  },
  {
   "cell_type": "code",
   "execution_count": 30,
   "source": [
    "g(x,b) * sigma1 * sigma2"
   ],
   "outputs": [
    {
     "output_type": "execute_result",
     "data": {
      "text/plain": [
       "g(f(b, a), b)"
      ]
     },
     "metadata": {},
     "execution_count": 30
    }
   ],
   "metadata": {}
  },
  {
   "cell_type": "markdown",
   "source": [
    "## Example Usage"
   ],
   "metadata": {}
  },
  {
   "cell_type": "markdown",
   "source": [
    "Lets use our new-found knowledge to create a small algorithm: counting the occurances of a subterm within a term."
   ],
   "metadata": {}
  },
  {
   "cell_type": "code",
   "execution_count": 31,
   "source": [
    "def count_occurence(subterm: Term, term: Term):\n",
    "    if subterm == term:\n",
    "        return 1\n",
    "    if isinstance(term, (Variable, Constant)):\n",
    "        return 0\n",
    "    count = 0\n",
    "    for t in term.arguments:\n",
    "        count += count_occurence(subterm, t)\n",
    "    return count"
   ],
   "outputs": [],
   "metadata": {}
  },
  {
   "cell_type": "code",
   "execution_count": 32,
   "source": [
    "f = Function(\"f\", 2)\n",
    "h = Function(\"h\", 1)\n",
    "x = Variable(\"x\")\n",
    "count_occurence(h(x), f(h(x), f(x, h(x))))"
   ],
   "outputs": [
    {
     "output_type": "execute_result",
     "data": {
      "text/plain": [
       "2"
      ]
     },
     "metadata": {},
     "execution_count": 32
    }
   ],
   "metadata": {}
  }
 ],
 "metadata": {
  "kernelspec": {
   "name": "python3",
   "display_name": "Python 3.8.6 64-bit ('moo_test': pyenv)"
  },
  "language_info": {
   "codemirror_mode": {
    "name": "ipython",
    "version": 3
   },
   "file_extension": ".py",
   "mimetype": "text/x-python",
   "name": "python",
   "nbconvert_exporter": "python",
   "pygments_lexer": "ipython3",
   "version": "3.8.6"
  },
  "interpreter": {
   "hash": "632c8599f18554cc0179674f2806847152ec4bafb15da219a2bec9d20b606288"
  }
 },
 "nbformat": 4,
 "nbformat_minor": 4
}